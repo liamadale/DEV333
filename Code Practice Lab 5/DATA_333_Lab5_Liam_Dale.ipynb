{
 "cells": [
  {
   "cell_type": "markdown",
   "id": "9fb827ad-474c-4858-a761-dff562cf5b33",
   "metadata": {},
   "source": [
    "# Code Submission 😼\n",
    "---\n",
    "I've written a couple functions here:\n",
    "\n",
    "- `validate_input()` ~ This function is responsible for preventing the user from entering negative numbers and any non-float variables into the program.\n",
    "- `validate_y_or_n()` ~ Self-explanatory, checks that the user is inputing either Y or N into the input box in the program.\n",
    "- `read_trips()` ~ This function reads from the CSV file and then saves the incoming dataframe as a list of lists.\n",
    "- `list_trips()` ~ This function turns the list of lists into a dataframe with the matching headers and then prints the dataframe to screen.\n",
    "- `write_trips()` ~ This function writes the current `all_trips` list of lists variable into the matching `FILE_NAME` csv file.\n",
    "\n",
    "There is some variation between the expected output on canvas and what I'm submitting here, but I figure since the functionality is there, I should be ok! 😁\n",
    "\n",
    "Thanks for these assignments! I'm having a good time with these, I'm hoping we move on to more data structures but I've enjoyed the change in pace for this class."
   ]
  },
  {
   "cell_type": "code",
   "execution_count": 5,
   "id": "2490f942-beab-4756-adb6-72fcda19ec54",
   "metadata": {},
   "outputs": [
    {
     "name": "stdout",
     "output_type": "stream",
     "text": [
      "The Miles Per Gallon Program\n",
      "\n",
      "The CSV file exists and is not empty. Loading data into memory.\n",
      "\n",
      " Miles Driven  Gallons of Gas Used  Miles Per Gallon\n",
      "        225.0                 17.0             13.24\n",
      "       1374.0                 64.0             21.47\n",
      "       2514.0                 79.0             31.82\n",
      "\n"
     ]
    },
    {
     "name": "stdin",
     "output_type": "stream",
     "text": [
      "Enter miles driven:  274\n",
      "Enter gallons of gas used:  18.5\n"
     ]
    },
    {
     "name": "stdout",
     "output_type": "stream",
     "text": [
      "Miles Per Gallon: 14.81\n",
      "\n",
      " Miles Driven  Gallons of Gas Used  Miles Per Gallon\n",
      "        225.0                 17.0             13.24\n",
      "       1374.0                 64.0             21.47\n",
      "       2514.0                 79.0             31.82\n",
      "        274.0                 18.5             14.81\n",
      "\n"
     ]
    },
    {
     "name": "stdin",
     "output_type": "stream",
     "text": [
      "More entries? (y or n):  n\n"
     ]
    }
   ],
   "source": [
    "import pandas\n",
    "import os\n",
    "\n",
    "FILE_NAME = \"trip-data.csv\" # name of the CSV file to store trip data\n",
    "\n",
    "def validate_input(prompt, value_type): # validates user input for valid values for miles driven and gallons of gas used\n",
    "    while True:    \n",
    "        user_input = input(prompt)\n",
    "        try:\n",
    "            user_input = float(user_input)\n",
    "            if user_input < 0:\n",
    "                print(f\"{value_type} cannot be negative. Please enter a valid number.\")\n",
    "                continue\n",
    "            return user_input\n",
    "        except ValueError:\n",
    "            print(\"Invalid input. Please enter a numeric value for miles driven.\")\n",
    "\n",
    "def validate_y_or_n(prompt): # validates user input for yes or no\n",
    "    while True:\n",
    "        user_input = input(prompt).lower()\n",
    "        if user_input in ['y', 'n']:\n",
    "            return user_input\n",
    "        else:\n",
    "            print(\"Invalid input. Please enter 'y' or 'n'.\")\n",
    "\n",
    "def read_trips(): # reads the CSV file and loads it into memory\n",
    "    all_trips_df = pandas.read_csv(FILE_NAME)\n",
    "    return all_trips_df.values.tolist() # converts DataFrame to list of lists\n",
    "\n",
    "def list_trips(all_trips): # displays the trip data in a readable format\n",
    "    all_trips_df = pandas.DataFrame(all_trips, columns=[\"Miles Driven\", \"Gallons of Gas Used\", \"Miles Per Gallon\"])\n",
    "    print(all_trips_df.to_string(index=False)) # displays the DataFrame without the index\n",
    "\n",
    "def write_trips(all_trips): # writes the trip data to the CSV file\n",
    "    df = pandas.DataFrame(all_trips)\n",
    "    df.to_csv(FILE_NAME, index=False)\n",
    "\n",
    "\n",
    "print(\"The Miles Per Gallon Program\")\n",
    "\n",
    "all_trips = [] # initialize empty list to store trip data\n",
    "more_entries = \"y\" # initialize variable to control loop\n",
    "csv_not_empty = False # initialize variable to check if CSV file is empty\n",
    "\n",
    "if os.path.exists(FILE_NAME): # if file exists\n",
    "    df_check = pandas.read_csv(FILE_NAME) # read the CSV file\n",
    "    if df_check.empty: # if file is empty\n",
    "        print()\n",
    "        print(\"The CSV file is empty. Creating a new one.\")\n",
    "    else: # if file is not empty\n",
    "        print()\n",
    "        print(\"The CSV file exists and is not empty. Loading data into memory.\")\n",
    "        all_trips = read_trips() # loads CSV into memory\n",
    "        csv_not_empty = True\n",
    "else: # file does not exist\n",
    "    print()\n",
    "    print(\"The CSV file does not exist. Creating a new one.\")\n",
    "    open(FILE_NAME, 'w')\n",
    "\n",
    "while more_entries != \"n\": # continue until user enters \"n\"\n",
    "\n",
    "    if csv_not_empty == True:\n",
    "        print()\n",
    "        list_trips(all_trips) # displays the CSV file\n",
    "\n",
    "    print()\n",
    "\n",
    "    miles_driven = validate_input(\"Enter miles driven: \", \"Miles driven\") # collects miles driven\n",
    "\n",
    "    gallons_of_gas = validate_input(\"Enter gallons of gas used: \", \"Gallons of gas\") # collects gallons of gas used\n",
    "\n",
    "    miles_per_gallon = round(miles_driven / gallons_of_gas, 2) # calculates miles per gallon\n",
    "    print(f\"Miles Per Gallon: {miles_per_gallon}\") # displays miles per gallon\n",
    "\n",
    "    current_trip = [miles_driven, gallons_of_gas, miles_per_gallon] # creates a list of the current trip data\n",
    "    all_trips.append(current_trip) # appends the current trip data to the list of all trips\n",
    "\n",
    "\n",
    "    print()\n",
    "\n",
    "    list_trips(all_trips) # displays the CSV file\n",
    "\n",
    "    print()\n",
    "\n",
    "    write_trips(all_trips) # writes the trip data to the CSV file\n",
    "\n",
    "    more_entries = validate_y_or_n(\"More entries? (y or n): \") # asks user if they want to enter more data\n",
    "\n",
    "    csv_not_empty = True # sets variable to true to indicate that the CSV file is not empty"
   ]
  }
 ],
 "metadata": {
  "kernelspec": {
   "display_name": "Python [conda env:base] *",
   "language": "python",
   "name": "conda-base-py"
  },
  "language_info": {
   "codemirror_mode": {
    "name": "ipython",
    "version": 3
   },
   "file_extension": ".py",
   "mimetype": "text/x-python",
   "name": "python",
   "nbconvert_exporter": "python",
   "pygments_lexer": "ipython3",
   "version": "3.12.7"
  }
 },
 "nbformat": 4,
 "nbformat_minor": 5
}
