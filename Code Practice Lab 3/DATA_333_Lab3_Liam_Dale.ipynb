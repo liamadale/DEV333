{
 "cells": [
  {
   "cell_type": "markdown",
   "id": "16ee57de",
   "metadata": {},
   "source": [
    "# Exercise 3-1: Enhance the Miles Per Gallon program"
   ]
  },
  {
   "cell_type": "code",
   "execution_count": 3,
   "id": "9b4b0160",
   "metadata": {},
   "outputs": [
    {
     "name": "stdout",
     "output_type": "stream",
     "text": [
      "The Miles Per Gallon program\n",
      "\n",
      "Enter miles driven:\t\t100\n",
      "Enter gallons of gas used:\t5\n",
      "Enter cost of gas per gallon:\t5.25\n",
      "Is 5.25 correct? Press y for yes or n for no: n\n",
      "Enter cost of gas per gallon:\t5.00\n",
      "\n",
      "Miles Per Gallon:\t\t20.0\n",
      "Total Gas Cost:\t\t\t25.0\n",
      "Cost Per Mile:\t\t\t0.25\n",
      "\n",
      "Get entries for another trip? Press y to continue or n to quit.y\n",
      "Enter miles driven:\t\t200\n",
      "Enter gallons of gas used:\t11.5\n",
      "Enter cost of gas per gallon:\t4.75\n",
      "Is 4.75 correct? Press y for yes or n for no: y\n",
      "\n",
      "Miles Per Gallon:\t\t17.39\n",
      "Total Gas Cost:\t\t\t54.62\n",
      "Cost Per Mile:\t\t\t0.27\n",
      "\n",
      "Get entries for another trip? Press y to continue or n to quit.n\n",
      "Bye\n"
     ]
    }
   ],
   "source": [
    "# display a welcome message\n",
    "print(\"The Miles Per Gallon program\")\n",
    "print()"
   ]
  },
  {
   "cell_type": "code",
   "execution_count": 2,
   "id": "5d433ce1",
   "metadata": {},
   "outputs": [
    {
     "name": "stdin",
     "output_type": "stream",
     "text": [
      "Enter miles driven:\t\t 10\n",
      "Enter gallons of gas used:\t 2\n"
     ]
    }
   ],
   "source": [
    "# get input from the user\n",
    "miles_driven= float(input(\"Enter miles driven:\\t\\t\"))\n",
    "gallons_used = float(input(\"Enter gallons of gas used:\\t\"))"
   ]
  },
  {
   "cell_type": "code",
   "execution_count": 3,
   "id": "f0605ebc-8698-43e0-ae3e-748da7fc1fc2",
   "metadata": {},
   "outputs": [
    {
     "name": "stdout",
     "output_type": "stream",
     "text": [
      "Miles Per Gallon:         5.0\n"
     ]
    }
   ],
   "source": [
    "if miles_driven <= 0:\n",
    "    print(\"Miles driven must be greater than zero. Please try again.\")\n",
    "elif gallons_used <= 0:\n",
    "    print(\"Gallons used must be greater than zero. Please try again.\")\n",
    "else:\n",
    "    # calculate and display miles per gallon.\n",
    "    mpg = round((miles_driven / gallons_used),2)\n",
    "    print(\"Miles Per Gallon:        \", mpg)"
   ]
  },
  {
   "cell_type": "code",
   "execution_count": 4,
   "id": "a0e073cd-87d9-4489-a5c4-06cf3d0b4a3d",
   "metadata": {},
   "outputs": [
    {
     "name": "stdout",
     "output_type": "stream",
     "text": [
      "\n",
      "Bye\n"
     ]
    }
   ],
   "source": [
    "print()\n",
    "print(\"Bye\")"
   ]
  },
  {
   "attachments": {
    "523ef37b-f312-4353-b6ec-8d04c9eb55e8.png": {
     "image/png": "[encoded data removed]"
    }
   },
   "cell_type": "markdown",
   "id": "55880742-fa00-4486-94a6-968e9eb314a1",
   "metadata": {},
   "source": [
    "# **😺 CODE SUBMISSION:**\n",
    "---\n",
    "\n",
    "To avoid confusion I've strictly stuck to the canvas example outputs.\n",
    "\n",
    "There is still input validation even though there isn't an example of it.\n",
    "\n",
    "![image.png](attachment:523ef37b-f312-4353-b6ec-8d04c9eb55e8.png)"
   ]
  },
  {
   "cell_type": "markdown",
   "id": "fca16234-da09-4420-ae9e-e22dae001542",
   "metadata": {},
   "source": [
    "## **🖼️🖌️OUTPUT MATCHING CANVAS INPUTS:**\n",
    "---"
   ]
  },
  {
   "cell_type": "code",
   "execution_count": 1,
   "id": "6a4b14bb-f10f-4e74-b9cf-f62022a6d4b3",
   "metadata": {},
   "outputs": [
    {
     "name": "stdout",
     "output_type": "stream",
     "text": [
      "The Miles Per Gallon program\n",
      "\n"
     ]
    },
    {
     "name": "stdin",
     "output_type": "stream",
     "text": [
      "Enter miles driven:  150\n",
      "Enter gallons of gas used:  15.2\n",
      "Enter cost per gallon:  4.25\n"
     ]
    },
    {
     "name": "stdout",
     "output_type": "stream",
     "text": [
      "\n",
      "Miles Per Gallon: 9.87\n",
      "Total Gas Cost: 64.6\n",
      "Cost Per Mile: 0.43\n",
      "\n"
     ]
    },
    {
     "name": "stdin",
     "output_type": "stream",
     "text": [
      "Get entries for another trip (y/n)?  y\n"
     ]
    },
    {
     "name": "stdout",
     "output_type": "stream",
     "text": [
      "\n"
     ]
    },
    {
     "name": "stdin",
     "output_type": "stream",
     "text": [
      "Enter miles driven:  225\n",
      "Enter gallons of gas used:  16\n",
      "Enter cost per gallon:  4.25\n"
     ]
    },
    {
     "name": "stdout",
     "output_type": "stream",
     "text": [
      "\n",
      "Miles Per Gallon: 14.06\n",
      "Total Gas Cost: 68.0\n",
      "Cost Per Mile: 0.3\n",
      "\n"
     ]
    },
    {
     "name": "stdin",
     "output_type": "stream",
     "text": [
      "Get entries for another trip (y/n)?  n\n"
     ]
    },
    {
     "name": "stdout",
     "output_type": "stream",
     "text": [
      "\n"
     ]
    }
   ],
   "source": [
    "def get_positive_float(prompt):\n",
    "    while True:\n",
    "        try:\n",
    "            value = float(input(prompt))\n",
    "            if value > 0:\n",
    "                return value\n",
    "            else:\n",
    "                print(\"Please enter a positive number.\")\n",
    "        except ValueError:\n",
    "            print(\"Invalid input. Please enter a number.\")\n",
    "\n",
    "continue_program = True\n",
    "\n",
    "# display a welcome message\n",
    "print(\"The Miles Per Gallon program\")\n",
    "print()\n",
    "\n",
    "while continue_program == True:\n",
    "    # get input from the user\n",
    "\n",
    "    miles_driven= get_positive_float(\"Enter miles driven: \")\n",
    "    gallons_used = get_positive_float(\"Enter gallons of gas used: \")\n",
    "    cost_per_gallon = get_positive_float(\"Enter cost per gallon: \")\n",
    "    print()\n",
    "    \n",
    "    if miles_driven <= 0:\n",
    "        print(\"Miles driven must be greater than zero. Please try again.\")\n",
    "    elif gallons_used <= 0:\n",
    "        print(\"Gallons used must be greater than zero. Please try again.\")\n",
    "    elif cost_per_gallon <= 0:\n",
    "        print(\"Cost per gallon must be greater than zero. Please try again.\")\n",
    "\n",
    "    # calculate and display miles per gallon.\n",
    "    mpg = round((miles_driven / gallons_used),2)\n",
    "    print(\"Miles Per Gallon:\", mpg)\n",
    "    print(\"Total Gas Cost:\", round((gallons_used * cost_per_gallon),2))\n",
    "    print(\"Cost Per Mile:\", round((cost_per_gallon / mpg),2))\n",
    "    print()\n",
    "\n",
    "    while True:\n",
    "        user_continue = input(\"Get entries for another trip (y/n)? \")\n",
    "        print()\n",
    "        if user_continue == \"y\":\n",
    "            continue_program = True\n",
    "            break\n",
    "        elif user_continue == \"n\":\n",
    "            continue_program = False\n",
    "            break\n",
    "        else:\n",
    "            print(\"Please enter either 'y' or 'n'\")"
   ]
  },
  {
   "cell_type": "markdown",
   "id": "5f1a3a7f-efba-457e-a187-a85a218d72dd",
   "metadata": {},
   "source": [
    "## **🚀 OUTPUT MATCHING JUPYTER INPUTS:**\n",
    "---"
   ]
  },
  {
   "cell_type": "code",
   "execution_count": 7,
   "id": "edbdbab2-a6ab-41af-b360-81f06a4ccffb",
   "metadata": {},
   "outputs": [
    {
     "name": "stdout",
     "output_type": "stream",
     "text": [
      "The Miles Per Gallon program\n",
      "\n"
     ]
    },
    {
     "name": "stdin",
     "output_type": "stream",
     "text": [
      "Enter miles driven:  100\n",
      "Enter gallons of gas used:  5\n",
      "Enter cost per gallon:  5.25\n"
     ]
    },
    {
     "name": "stdout",
     "output_type": "stream",
     "text": [
      "\n",
      "Miles Per Gallon: 20.0\n",
      "Total Gas Cost: 26.25\n",
      "Cost Per Mile: 0.26\n",
      "\n"
     ]
    },
    {
     "name": "stdin",
     "output_type": "stream",
     "text": [
      "Get entries for another trip (y/n)?  y\n"
     ]
    },
    {
     "name": "stdout",
     "output_type": "stream",
     "text": [
      "\n"
     ]
    },
    {
     "name": "stdin",
     "output_type": "stream",
     "text": [
      "Enter miles driven:  200\n",
      "Enter gallons of gas used:  11.5\n",
      "Enter cost per gallon:  4.75\n"
     ]
    },
    {
     "name": "stdout",
     "output_type": "stream",
     "text": [
      "\n",
      "Miles Per Gallon: 17.39\n",
      "Total Gas Cost: 54.62\n",
      "Cost Per Mile: 0.27\n",
      "\n"
     ]
    },
    {
     "name": "stdin",
     "output_type": "stream",
     "text": [
      "Get entries for another trip (y/n)?  n\n"
     ]
    },
    {
     "name": "stdout",
     "output_type": "stream",
     "text": [
      "\n"
     ]
    }
   ],
   "source": [
    "def get_positive_float(prompt):\n",
    "    while True:\n",
    "        try:\n",
    "            value = float(input(prompt))\n",
    "            if value > 0:\n",
    "                return value\n",
    "            else:\n",
    "                print(\"Please enter a positive number.\")\n",
    "        except ValueError:\n",
    "            print(\"Invalid input. Please enter a number.\")\n",
    "\n",
    "continue_program = True\n",
    "\n",
    "# display a welcome message\n",
    "print(\"The Miles Per Gallon program\")\n",
    "print()\n",
    "\n",
    "while continue_program == True:\n",
    "    # get input from the user\n",
    "\n",
    "    miles_driven= get_positive_float(\"Enter miles driven: \")\n",
    "    gallons_used = get_positive_float(\"Enter gallons of gas used: \")\n",
    "    cost_per_gallon = get_positive_float(\"Enter cost per gallon: \")\n",
    "    print()\n",
    "    \n",
    "    if miles_driven <= 0:\n",
    "        print(\"Miles driven must be greater than zero. Please try again.\")\n",
    "    elif gallons_used <= 0:\n",
    "        print(\"Gallons used must be greater than zero. Please try again.\")\n",
    "    elif cost_per_gallon <= 0:\n",
    "        print(\"Cost per gallon must be greater than zero. Please try again.\")\n",
    "\n",
    "    # calculate and display miles per gallon.\n",
    "    mpg = round((miles_driven / gallons_used),2)\n",
    "    print(\"Miles Per Gallon:\", mpg)\n",
    "    print(\"Total Gas Cost:\", round((gallons_used * cost_per_gallon),2))\n",
    "    print(\"Cost Per Mile:\", round((cost_per_gallon / mpg),2))\n",
    "    print()\n",
    "\n",
    "    while True:\n",
    "        user_continue = input(\"Get entries for another trip (y/n)? \")\n",
    "        print()\n",
    "        if user_continue == \"y\":\n",
    "            continue_program = True\n",
    "            break\n",
    "        elif user_continue == \"n\":\n",
    "            continue_program = False\n",
    "            break\n",
    "        else:\n",
    "            print(\"Please enter either 'y' or 'n'\")"
   ]
  }
 ],
 "metadata": {
  "jupytext": {
   "cell_metadata_filter": "-all",
   "executable": "/usr/bin/env python3",
   "main_language": "python",
   "notebook_metadata_filter": "-all"
  },
  "kernelspec": {
   "display_name": "Python [conda env:base] *",
   "language": "python",
   "name": "conda-base-py"
  },
  "language_info": {
   "codemirror_mode": {
    "name": "ipython",
    "version": 3
   },
   "file_extension": ".py",
   "mimetype": "text/x-python",
   "name": "python",
   "nbconvert_exporter": "python",
   "pygments_lexer": "ipython3",
   "version": "3.12.7"
  }
 },
 "nbformat": 4,
 "nbformat_minor": 5
}
