{
 "cells": [
  {
   "cell_type": "markdown",
   "id": "9fb827ad-474c-4858-a761-dff562cf5b33",
   "metadata": {},
   "source": [
    "# Code Submission 😼\n",
    "---\n",
    "I've written two simple functions here:\n",
    "\n",
    "- `validate_input()` ~ This function is responsible for preventing the user from entering negative numbers and any non-float variables into the program.\n",
    "- `validate_y_or_n()` ~ Self-explanatory, checks that the user is inputing either Y or N into the input box in the program.\n",
    "\n",
    "There is some variation between the expected output on canvas and what I'm submitting here, but I figure since the functionality is there, I should be ok! 😁\n",
    "\n",
    "Thanks for these assignments! I'm having a good time with these, I'm hoping we move on to more data structures but I've enjoyed the change in pace for this class."
   ]
  },
  {
   "cell_type": "code",
   "execution_count": 2,
   "id": "2490f942-beab-4756-adb6-72fcda19ec54",
   "metadata": {},
   "outputs": [
    {
     "name": "stdout",
     "output_type": "stream",
     "text": [
      "The Miles Per Gallon Program\n",
      "The CSV file does not exist. Creating a new one.\n",
      "\n"
     ]
    },
    {
     "name": "stdin",
     "output_type": "stream",
     "text": [
      "Enter miles driven:  225\n",
      "Enter gallons of gas used:  17\n",
      "Enter miles per gallon:  13.24\n"
     ]
    },
    {
     "name": "stdout",
     "output_type": "stream",
     "text": [
      "\n",
      "   Distance  Gallons    MPG\n",
      "0     225.0     17.0  13.24\n",
      "\n"
     ]
    },
    {
     "name": "stdin",
     "output_type": "stream",
     "text": [
      "More entries? (y or n):  y\n"
     ]
    },
    {
     "name": "stdout",
     "output_type": "stream",
     "text": [
      "\n",
      "   Distance  Gallons    MPG\n",
      "0     225.0     17.0  13.24\n",
      "\n"
     ]
    },
    {
     "name": "stdin",
     "output_type": "stream",
     "text": [
      "Enter miles driven:  1374\n",
      "Enter gallons of gas used:  64\n",
      "Enter miles per gallon:  21.47\n"
     ]
    },
    {
     "name": "stdout",
     "output_type": "stream",
     "text": [
      "\n",
      "   Distance  Gallons    MPG\n",
      "0     225.0     17.0  13.24\n",
      "1    1374.0     64.0  21.47\n",
      "\n"
     ]
    },
    {
     "name": "stdin",
     "output_type": "stream",
     "text": [
      "More entries? (y or n):  y\n"
     ]
    },
    {
     "name": "stdout",
     "output_type": "stream",
     "text": [
      "\n",
      "   Distance  Gallons    MPG\n",
      "0     225.0     17.0  13.24\n",
      "1    1374.0     64.0  21.47\n",
      "\n"
     ]
    },
    {
     "name": "stdin",
     "output_type": "stream",
     "text": [
      "Enter miles driven:  2514\n",
      "Enter gallons of gas used:  79\n",
      "Enter miles per gallon:  31.82\n"
     ]
    },
    {
     "name": "stdout",
     "output_type": "stream",
     "text": [
      "\n",
      "   Distance  Gallons    MPG\n",
      "0     225.0     17.0  13.24\n",
      "1    1374.0     64.0  21.47\n",
      "2    2514.0     79.0  31.82\n",
      "\n"
     ]
    },
    {
     "name": "stdin",
     "output_type": "stream",
     "text": [
      "More entries? (y or n):  y\n"
     ]
    },
    {
     "name": "stdout",
     "output_type": "stream",
     "text": [
      "\n",
      "   Distance  Gallons    MPG\n",
      "0     225.0     17.0  13.24\n",
      "1    1374.0     64.0  21.47\n",
      "2    2514.0     79.0  31.82\n",
      "\n"
     ]
    },
    {
     "name": "stdin",
     "output_type": "stream",
     "text": [
      "Enter miles driven:  274\n",
      "Enter gallons of gas used:  18.5\n",
      "Enter miles per gallon:  14.81\n"
     ]
    },
    {
     "name": "stdout",
     "output_type": "stream",
     "text": [
      "\n",
      "   Distance  Gallons    MPG\n",
      "0     225.0     17.0  13.24\n",
      "1    1374.0     64.0  21.47\n",
      "2    2514.0     79.0  31.82\n",
      "3     274.0     18.5  14.81\n",
      "\n"
     ]
    },
    {
     "name": "stdin",
     "output_type": "stream",
     "text": [
      "More entries? (y or n):  n\n"
     ]
    }
   ],
   "source": [
    "import pandas\n",
    "import os\n",
    "\n",
    "def validate_input(prompt, value_type):\n",
    "    while True:    \n",
    "        user_input = input(prompt)\n",
    "        try:\n",
    "            user_input = float(user_input)\n",
    "            if user_input < 0:\n",
    "                print(f\"{value_type} cannot be negative. Please enter a valid number.\")\n",
    "                continue\n",
    "            return user_input\n",
    "        except ValueError:\n",
    "            print(\"Invalid input. Please enter a numeric value for miles driven.\")\n",
    "\n",
    "def validate_y_or_n(prompt):\n",
    "    while True:\n",
    "        user_input = input(prompt).lower()\n",
    "        if user_input in ['y', 'n']:\n",
    "            return user_input\n",
    "        else:\n",
    "            print(\"Invalid input. Please enter 'y' or 'n'.\")\n",
    "\n",
    "print(\"The Miles Per Gallon Program\")\n",
    "\n",
    "while True:\n",
    "\n",
    "    if os.path.exists(\"trip-data.csv\"):\n",
    "        if pandas.read_csv(\"trip-data.csv\").empty:  \n",
    "            print(\"The CSV file is empty. Creating a new one.\")\n",
    "        else:\n",
    "            print()\n",
    "            print(pandas.read_csv(\"trip-data.csv\"))\n",
    "    else:\n",
    "        print(\"The CSV file does not exist. Creating a new one.\")\n",
    "\n",
    "    print()\n",
    "\n",
    "    miles_driven = validate_input(\"Enter miles driven: \", \"Miles driven\")\n",
    "\n",
    "    gallons_of_gas = validate_input(\"Enter gallons of gas used: \", \"Gallons of gas\")\n",
    "\n",
    "    miles_per_gallon = validate_input(\"Enter miles per gallon: \", \"Miles per gallon\")\n",
    "\n",
    "    data = {\n",
    "        \"Distance\": [miles_driven],\n",
    "        \"Gallons\": [gallons_of_gas],\n",
    "        \"MPG\": [miles_per_gallon]\n",
    "    }\n",
    "\n",
    "    df = pandas.DataFrame(data)\n",
    "\n",
    "    df.to_csv(\"trip-data.csv\", mode='a', header=not os.path.exists(\"trip-data.csv\"), index=False)\n",
    "\n",
    "    print()\n",
    "\n",
    "    print(pandas.read_csv(\"trip-data.csv\"))\n",
    "\n",
    "    print()\n",
    "\n",
    "    more_entries = validate_y_or_n(\"More entries? (y or n): \")\n",
    "    if more_entries.lower() != \"y\":\n",
    "        break"
   ]
  }
 ],
 "metadata": {
  "kernelspec": {
   "display_name": "Python [conda env:base] *",
   "language": "python",
   "name": "conda-base-py"
  },
  "language_info": {
   "codemirror_mode": {
    "name": "ipython",
    "version": 3
   },
   "file_extension": ".py",
   "mimetype": "text/x-python",
   "name": "python",
   "nbconvert_exporter": "python",
   "pygments_lexer": "ipython3",
   "version": "3.12.7"
  }
 },
 "nbformat": 4,
 "nbformat_minor": 5
}
