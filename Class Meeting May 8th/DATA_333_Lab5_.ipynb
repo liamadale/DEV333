{
 "cells": [
  {
   "cell_type": "markdown",
   "id": "39c50ace",
   "metadata": {},
   "source": [
    "# Exercise 5-1 Create a CSV file for trip data"
   ]
  },
  {
   "cell_type": "code",
   "execution_count": null,
   "id": "03e553d6-3cbb-4eca-a712-d7954f5b731d",
   "metadata": {
    "scrolled": true
   },
   "outputs": [
    {
     "name": "stdout",
     "output_type": "stream",
     "text": [
      "The Miles Per Gallon application\n",
      "\n",
      "Miles Per Gallon:\t1.0\n",
      "\n"
     ]
    },
    {
     "data": {
      "text/html": [
       "<div>\n",
       "<style scoped>\n",
       "    .dataframe tbody tr th:only-of-type {\n",
       "        vertical-align: middle;\n",
       "    }\n",
       "\n",
       "    .dataframe tbody tr th {\n",
       "        vertical-align: top;\n",
       "    }\n",
       "\n",
       "    .dataframe thead th {\n",
       "        text-align: right;\n",
       "    }\n",
       "</style>\n",
       "<table border=\"1\" class=\"dataframe\">\n",
       "  <thead>\n",
       "    <tr style=\"text-align: right;\">\n",
       "      <th></th>\n",
       "      <th>0</th>\n",
       "      <th>1</th>\n",
       "      <th>2</th>\n",
       "    </tr>\n",
       "  </thead>\n",
       "  <tbody>\n",
       "    <tr>\n",
       "      <th>0</th>\n",
       "      <td>Miles Driven</td>\n",
       "      <td>Gallons Used</td>\n",
       "      <td>Miles Per Gallon</td>\n",
       "    </tr>\n",
       "    <tr>\n",
       "      <th>1</th>\n",
       "      <td>10.0</td>\n",
       "      <td>10.0</td>\n",
       "      <td>1.0</td>\n",
       "    </tr>\n",
       "  </tbody>\n",
       "</table>\n",
       "</div>"
      ],
      "text/plain": [
       "              0             1                 2\n",
       "0  Miles Driven  Gallons Used  Miles Per Gallon\n",
       "1          10.0          10.0               1.0"
      ]
     },
     "execution_count": 12,
     "metadata": {},
     "output_type": "execute_result"
    }
   ],
   "source": [
    "import pandas as pd\n",
    "print(\"The Miles Per Gallon application\")\n",
    "print()\n",
    "    \n",
    "#define a list of lists with header row and three columns\n",
    "trips = [\n",
    "    [\"Miles Driven\", \"Gallons Used\", \"Miles Per Gallon\"], #header row\n",
    "]\n",
    "\n",
    "#create entries for the list and calculate MPG\n",
    "more = \"y\"\n",
    "while more.lower() == \"y\":\n",
    "    miles_driven = float(input(\"Enter miles driven :     \"))                    \n",
    "    gallons_used = float(input(\"Enter gallons of gas:     \"))                          \n",
    "    mpg = round((miles_driven / gallons_used), 2)\n",
    "    print(\"Miles Per Gallon:\\t\" + str(mpg))\n",
    "    print()\n",
    "        \n",
    "    trip = [miles_driven, gallons_used, mpg]\n",
    "    trips.append(trip)               \n",
    "    df = pd.DataFrame(trips) #convert to DataFrame    \n",
    "    df.to_csv(\"trips.csv\", header=False, index=False) #save to CSV file\n",
    "    more = input(\"More entries? (y or n): \")\n",
    "    \n",
    "df = pd.read_csv(\"trips.csv\", header=None)\n",
    "df"
   ]
  },
  {
   "cell_type": "code",
   "execution_count": null,
   "id": "d0752395-e2e4-437c-9487-d81702cc934a",
   "metadata": {},
   "outputs": [],
   "source": [
    "df = pd.DataFrame(trips)\n",
    "columnnames = [\"miles_driven\",\"gallons_used\",\"mpg\"]\n",
    "df.columns = columnnames\n",
    "df\n",
    "pathfile = \"/Users/yijun.cheng/Downloads/python333/input.csv\"\n",
    "df.to_csv(pathfile)"
   ]
  },
  {
   "cell_type": "code",
   "execution_count": null,
   "id": "3d57ee3a-9aeb-4de3-a71d-0d0460d05bc2",
   "metadata": {},
   "outputs": [
    {
     "data": {
      "text/html": [
       "<div>\n",
       "<style scoped>\n",
       "    .dataframe tbody tr th:only-of-type {\n",
       "        vertical-align: middle;\n",
       "    }\n",
       "\n",
       "    .dataframe tbody tr th {\n",
       "        vertical-align: top;\n",
       "    }\n",
       "\n",
       "    .dataframe thead th {\n",
       "        text-align: right;\n",
       "    }\n",
       "</style>\n",
       "<table border=\"1\" class=\"dataframe\">\n",
       "  <thead>\n",
       "    <tr style=\"text-align: right;\">\n",
       "      <th></th>\n",
       "      <th>Unnamed: 0</th>\n",
       "      <th>miles_driven</th>\n",
       "      <th>gallons_used</th>\n",
       "      <th>mpg</th>\n",
       "    </tr>\n",
       "  </thead>\n",
       "  <tbody>\n",
       "    <tr>\n",
       "      <th>0</th>\n",
       "      <td>0</td>\n",
       "      <td>4.0</td>\n",
       "      <td>2.0</td>\n",
       "      <td>2.00</td>\n",
       "    </tr>\n",
       "    <tr>\n",
       "      <th>1</th>\n",
       "      <td>1</td>\n",
       "      <td>2.0</td>\n",
       "      <td>3.0</td>\n",
       "      <td>0.67</td>\n",
       "    </tr>\n",
       "  </tbody>\n",
       "</table>\n",
       "</div>"
      ],
      "text/plain": [
       "   Unnamed: 0  miles_driven  gallons_used   mpg\n",
       "0           0           4.0           2.0  2.00\n",
       "1           1           2.0           3.0  0.67"
      ]
     },
     "execution_count": 35,
     "metadata": {},
     "output_type": "execute_result"
    }
   ],
   "source": [
    "df2 = pd.read_csv(pathfile)\n",
    "df2"
   ]
  },
  {
   "cell_type": "code",
   "execution_count": null,
   "id": "eb458640-0c56-44a5-8e2c-310ff6eb4fc0",
   "metadata": {},
   "outputs": [],
   "source": [
    "df2['mpg'] = df2['miles_driven'] + df2['gallons_used']"
   ]
  }
 ],
 "metadata": {
  "jupytext": {
   "cell_metadata_filter": "-all",
   "executable": "/usr/bin/env python3",
   "main_language": "python",
   "notebook_metadata_filter": "-all"
  },
  "kernelspec": {
   "display_name": "base",
   "language": "python",
   "name": "python3"
  },
  "language_info": {
   "codemirror_mode": {
    "name": "ipython",
    "version": 3
   },
   "file_extension": ".py",
   "mimetype": "text/x-python",
   "name": "python",
   "nbconvert_exporter": "python",
   "pygments_lexer": "ipython3",
   "version": "3.12.7"
  }
 },
 "nbformat": 4,
 "nbformat_minor": 5
}
