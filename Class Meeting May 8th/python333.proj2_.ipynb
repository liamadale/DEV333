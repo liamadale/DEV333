{
 "cells": [
  {
   "cell_type": "code",
   "execution_count": 34,
   "id": "a62919d7-ccc3-42bf-97c9-f838b31d8c8b",
   "metadata": {},
   "outputs": [
    {
     "name": "stdout",
     "output_type": "stream",
     "text": [
      "SQLite is available, version: 3.41.2\n"
     ]
    }
   ],
   "source": [
    "import sqlite3\n",
    "\n",
    "try:\n",
    "    sqlite3_version = sqlite3.sqlite_version\n",
    "    print(f\"SQLite is available, version: {sqlite3_version}\")\n",
    "except ImportError:\n",
    "    print(\"SQLite is not installed or not available in this Python environment\")"
   ]
  },
  {
   "cell_type": "code",
   "execution_count": 37,
   "id": "04fbc733-d401-4dfa-b55b-8e305a40e6b6",
   "metadata": {},
   "outputs": [],
   "source": [
    "connection = sqlite3.connect(\"my_database.db\")"
   ]
  },
  {
   "cell_type": "code",
   "execution_count": 38,
   "id": "aefd0b15-ac07-414f-a28b-5e5dc3a5275d",
   "metadata": {},
   "outputs": [
    {
     "name": "stdout",
     "output_type": "stream",
     "text": [
      "Table created successfully\n"
     ]
    }
   ],
   "source": [
    "# Create a cursor object\n",
    "cursor = connection.cursor()\n",
    "\n",
    "# Create a table\n",
    "cursor.execute(\"\"\"\n",
    "CREATE TABLE IF NOT EXISTS employees (\n",
    "    id INTEGER PRIMARY KEY AUTOINCREMENT,\n",
    "    name TEXT NOT NULL,\n",
    "    age INTEGER,\n",
    "    position TEXT\n",
    ")\n",
    "\"\"\")\n",
    "print(\"Table created successfully\")"
   ]
  },
  {
   "cell_type": "code",
   "execution_count": 39,
   "id": "20fa335f-12dc-4794-ad44-d2eea1f421b4",
   "metadata": {},
   "outputs": [
    {
     "name": "stdout",
     "output_type": "stream",
     "text": [
      "Data inserted successfully\n"
     ]
    }
   ],
   "source": [
    "# Insert data into the table\n",
    "cursor.execute(\"INSERT INTO employees (name, age, position) VALUES (?, ?, ?)\", \n",
    "               (\"Alice\", 28, \"Data Scientist\"))\n",
    "\n",
    "# Commit changes to save the data\n",
    "connection.commit()\n",
    "print(\"Data inserted successfully\")"
   ]
  },
  {
   "cell_type": "code",
   "execution_count": 40,
   "id": "36edb81e-11b8-4027-b59b-3082d24fd3bc",
   "metadata": {},
   "outputs": [
    {
     "name": "stdout",
     "output_type": "stream",
     "text": [
      "('Alice', 28, 'Data Scientist')\n",
      "('Bob', 34, 'Engineer')\n",
      "('Charlie', 29, 'Analyst')\n",
      "('Alice', 28, 'Data Scientist')\n"
     ]
    }
   ],
   "source": [
    "# Query data from the table\n",
    "cursor.execute(\"SELECT * FROM employees\")\n",
    "\n",
    "# Fetch all rows and print\n",
    "rows = cursor.fetchall()\n",
    "for row in rows:\n",
    "    print(row)"
   ]
  },
  {
   "cell_type": "code",
   "execution_count": 41,
   "id": "bc17ff7c-5a99-4406-903b-495bbc23f6f4",
   "metadata": {},
   "outputs": [
    {
     "name": "stdout",
     "output_type": "stream",
     "text": [
      "Data updated successfully\n"
     ]
    }
   ],
   "source": [
    "# Update a record\n",
    "cursor.execute(\"UPDATE employees SET age = ? WHERE name = ?\", (29, \"Alice\"))\n",
    "connection.commit()\n",
    "print(\"Data updated successfully\")"
   ]
  },
  {
   "cell_type": "code",
   "execution_count": 42,
   "id": "97c489ac-f57a-4e5b-a664-d3583cb3cf42",
   "metadata": {},
   "outputs": [
    {
     "name": "stdout",
     "output_type": "stream",
     "text": [
      "      name  age        position\n",
      "0    Alice   29  Data Scientist\n",
      "1      Bob   34        Engineer\n",
      "2  Charlie   29         Analyst\n",
      "3    Alice   29  Data Scientist\n"
     ]
    }
   ],
   "source": [
    "import pandas as pd\n",
    "\n",
    "# Load data into a DataFrame\n",
    "df = pd.read_sql_query(\"SELECT * FROM employees\", connection)\n",
    "print(df.head())\n"
   ]
  },
  {
   "cell_type": "code",
   "execution_count": 43,
   "id": "009225c7-d4e0-4214-8b8c-b6068bb0e759",
   "metadata": {},
   "outputs": [
    {
     "name": "stdout",
     "output_type": "stream",
     "text": [
      "SQLite connection closed\n"
     ]
    }
   ],
   "source": [
    "try:\n",
    "    connection = sqlite3.connect(\"my_database.db\")\n",
    "    cursor = connection.cursor()\n",
    "    # Perform operations\n",
    "finally:\n",
    "    if connection:\n",
    "        connection.close()\n",
    "        print(\"SQLite connection closed\")\n"
   ]
  },
  {
   "cell_type": "code",
   "execution_count": 46,
   "id": "8f2f3fe8-75ec-4ee8-abfe-9f517ad2136a",
   "metadata": {},
   "outputs": [
    {
     "name": "stdout",
     "output_type": "stream",
     "text": [
      "Data inserted successfully\n"
     ]
    }
   ],
   "source": [
    "# Sample DataFrame\n",
    "data = {\n",
    "    \"name\": [\"Alice\", \"Bob\", \"Charlie\"],\n",
    "    \"age\": [28, 34, 29],\n",
    "    \"position\": [\"Data Scientist\", \"Engineer\", \"Analyst\"]\n",
    "}\n",
    "df = pd.DataFrame(data)\n",
    "\n",
    "# Connect to SQLite database\n",
    "connection = sqlite3.connect(\"my_database.db\")\n",
    "# Insert DataFrame into database table \"employees\"\n",
    "df.to_sql(\"employees\", connection, if_exists=\"append\", index=False) #replace\n",
    "print(\"Data inserted successfully\")\n"
   ]
  },
  {
   "cell_type": "code",
   "execution_count": 47,
   "id": "213d1eca-3a6d-46d3-93b1-9147cba551ed",
   "metadata": {},
   "outputs": [
    {
     "name": "stdout",
     "output_type": "stream",
     "text": [
      "      name  age        position\n",
      "0    Alice   28  Data Scientist\n",
      "1      Bob   34        Engineer\n",
      "2  Charlie   29         Analyst\n",
      "3    Alice   28  Data Scientist\n",
      "4      Bob   34        Engineer\n",
      "5  Charlie   29         Analyst\n"
     ]
    }
   ],
   "source": [
    "# Verify insertion by querying the table\n",
    "result = pd.read_sql(\"SELECT * FROM employees\", connection)\n",
    "print(result)\n",
    "\n",
    "# Close the connection\n",
    "connection.close()"
   ]
  },
  {
   "cell_type": "code",
   "execution_count": null,
   "id": "20e13e62-c557-4933-9cad-f123a4c1244d",
   "metadata": {},
   "outputs": [],
   "source": []
  }
 ],
 "metadata": {
  "kernelspec": {
   "display_name": "base",
   "language": "python",
   "name": "python3"
  },
  "language_info": {
   "codemirror_mode": {
    "name": "ipython",
    "version": 3
   },
   "file_extension": ".py",
   "mimetype": "text/x-python",
   "name": "python",
   "nbconvert_exporter": "python",
   "pygments_lexer": "ipython3",
   "version": "3.12.7"
  }
 },
 "nbformat": 4,
 "nbformat_minor": 5
}
