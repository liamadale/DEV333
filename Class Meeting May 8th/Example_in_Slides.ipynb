{
 "cells": [
  {
   "cell_type": "code",
   "execution_count": 3,
   "id": "67f896ec-96be-43f5-9d4d-589e71ef369d",
   "metadata": {},
   "outputs": [
    {
     "name": "stdout",
     "output_type": "stream",
     "text": [
      "   0   1       2       3    4   5   6       7    8   9       10      11  \\\n",
      "0  23  84     Low    High   No   7  73     Low  Yes   0     Low  Medium   \n",
      "1  19  64     Low  Medium   No   8  59     Low  Yes   2  Medium  Medium   \n",
      "2  24  98  Medium  Medium  Yes   7  91  Medium  Yes   2  Medium  Medium   \n",
      "3  29  89     Low  Medium  Yes   8  98  Medium  Yes   1  Medium  Medium   \n",
      "4  19  92  Medium  Medium  Yes   6  65  Medium  Yes   3  Medium    High   \n",
      "\n",
      "       12        13  14  15            16        17      18  19  \n",
      "0  Public  Positive   3  No   High School      Near    Male  67  \n",
      "1  Public  Negative   4  No       College  Moderate  Female  61  \n",
      "2  Public   Neutral   4  No  Postgraduate      Near    Male  74  \n",
      "3  Public  Negative   4  No   High School  Moderate    Male  71  \n",
      "4  Public   Neutral   4  No       College      Near  Female  70  \n"
     ]
    }
   ],
   "source": [
    "import pandas as pd\n",
    "\n",
    "# Define file path (update with the actual path where your CSV is stored)\n",
    "file_path = \"/Users/yijun.cheng/Downloads/StudentPerformanceFactors.csv\"\n",
    "\n",
    "# Load data into a Pandas DataFrame\n",
    "df = pd.read_csv(file_path, header=None)\n",
    "\n",
    "# Show the first 5 rows of the data\n",
    "print(df.head())"
   ]
  },
  {
   "cell_type": "code",
   "execution_count": 4,
   "id": "7e87c762-e842-40a5-9818-6f37944e714b",
   "metadata": {},
   "outputs": [
    {
     "name": "stdout",
     "output_type": "stream",
     "text": [
      "   Hours_Studied  Attendance Parental_Involvement Access_to_Resources  \\\n",
      "0             23          84                  Low                High   \n",
      "1             19          64                  Low              Medium   \n",
      "2             24          98               Medium              Medium   \n",
      "3             29          89                  Low              Medium   \n",
      "4             19          92               Medium              Medium   \n",
      "\n",
      "  Extracurricular_Activities  Sleep_Hours  Previous_Scores Motivation_Level  \\\n",
      "0                         No            7               73              Low   \n",
      "1                         No            8               59              Low   \n",
      "2                        Yes            7               91           Medium   \n",
      "3                        Yes            8               98           Medium   \n",
      "4                        Yes            6               65           Medium   \n",
      "\n",
      "  Internet_Access  Tutoring_Sessions Family_Income Teacher_Quality  \\\n",
      "0             Yes                  0           Low          Medium   \n",
      "1             Yes                  2        Medium          Medium   \n",
      "2             Yes                  2        Medium          Medium   \n",
      "3             Yes                  1        Medium          Medium   \n",
      "4             Yes                  3        Medium            High   \n",
      "\n",
      "  School_Type Peer_Influence  Physical_Activity Learning_Disabilities  \\\n",
      "0      Public       Positive                  3                    No   \n",
      "1      Public       Negative                  4                    No   \n",
      "2      Public        Neutral                  4                    No   \n",
      "3      Public       Negative                  4                    No   \n",
      "4      Public        Neutral                  4                    No   \n",
      "\n",
      "  Parental_Education_Level Distance_from_Home  Gender  Exam_Score  \n",
      "0              High School               Near    Male          67  \n",
      "1                  College           Moderate  Female          61  \n",
      "2             Postgraduate               Near    Male          74  \n",
      "3              High School           Moderate    Male          71  \n",
      "4                  College               Near  Female          70  \n"
     ]
    }
   ],
   "source": [
    "# Define column names based on the dataset documentation\n",
    "column_names = [\"Hours_Studied\", \"Attendance\", \"Parental_Involvement\", \"Access_to_Resources\",\n",
    "                     \"Extracurricular_Activities\", \"Sleep_Hours\", \"Previous_Scores\", \"Motivation_Level\",\n",
    "                     \"Internet_Access\", \"Tutoring_Sessions\", \"Family_Income\", \"Teacher_Quality\",\n",
    "                     \"School_Type\", \"Peer_Influence\", \"Physical_Activity\", \"Learning_Disabilities\",\n",
    "                     \"Parental_Education_Level\", \"Distance_from_Home\", \"Gender\", \"Exam_Score\"]\n",
    "\n",
    "# Assign these column names to the DataFrame\n",
    "df.columns = column_names\n",
    "\n",
    "# Display the updated DataFrame\n",
    "print(df.head())"
   ]
  },
  {
   "cell_type": "code",
   "execution_count": 5,
   "id": "414cc7da-a336-4800-bca0-71a238c2b4e2",
   "metadata": {},
   "outputs": [
    {
     "name": "stdout",
     "output_type": "stream",
     "text": [
      "Hours_Studied                  0\n",
      "Attendance                     0\n",
      "Parental_Involvement           0\n",
      "Access_to_Resources            0\n",
      "Extracurricular_Activities     0\n",
      "Sleep_Hours                    0\n",
      "Previous_Scores                0\n",
      "Motivation_Level               0\n",
      "Internet_Access                0\n",
      "Tutoring_Sessions              0\n",
      "Family_Income                  0\n",
      "Teacher_Quality               78\n",
      "School_Type                    0\n",
      "Peer_Influence                 0\n",
      "Physical_Activity              0\n",
      "Learning_Disabilities          0\n",
      "Parental_Education_Level      90\n",
      "Distance_from_Home            67\n",
      "Gender                         0\n",
      "Exam_Score                     0\n",
      "dtype: int64\n"
     ]
    }
   ],
   "source": [
    "# Check for missing values in the DataFrame\n",
    "missing_values = df.isnull().sum()\n",
    "print(missing_values)"
   ]
  },
  {
   "cell_type": "code",
   "execution_count": 18,
   "id": "a4d0497c-f7ec-445d-b5b8-ea5dd83916fa",
   "metadata": {},
   "outputs": [
    {
     "name": "stdout",
     "output_type": "stream",
     "text": [
      "   Hours_Studied  Attendance Parental_Involvement Access_to_Resources  \\\n",
      "0             23          84                  Low                High   \n",
      "1             19          64                  Low              Medium   \n",
      "2             24          98               Medium              Medium   \n",
      "3             29          89                  Low              Medium   \n",
      "4             19          92               Medium              Medium   \n",
      "\n",
      "  Extracurricular_Activities  Sleep_Hours  Previous_Scores Motivation_Level  \\\n",
      "0                         No            7               73              Low   \n",
      "1                         No            8               59              Low   \n",
      "2                        Yes            7               91           Medium   \n",
      "3                        Yes            8               98           Medium   \n",
      "4                        Yes            6               65           Medium   \n",
      "\n",
      "  Internet_Access  Tutoring_Sessions Family_Income Teacher_Quality  \\\n",
      "0             Yes                  0           Low          Medium   \n",
      "1             Yes                  2        Medium          Medium   \n",
      "2             Yes                  2        Medium          Medium   \n",
      "3             Yes                  1        Medium          Medium   \n",
      "4             Yes                  3        Medium            High   \n",
      "\n",
      "  School_Type Peer_Influence  Physical_Activity Learning_Disabilities  \\\n",
      "0      Public       Positive                  3                    No   \n",
      "1      Public       Negative                  4                    No   \n",
      "2      Public        Neutral                  4                    No   \n",
      "3      Public       Negative                  4                    No   \n",
      "4      Public        Neutral                  4                    No   \n",
      "\n",
      "  Parental_Education_Level Distance_from_Home  Gender  Exam_Score  \n",
      "0              High School               Near    Male          67  \n",
      "1                  College           Moderate  Female          61  \n",
      "2             Postgraduate               Near    Male          74  \n",
      "3              High School           Moderate    Male          71  \n",
      "4                  College               Near  Female          70  \n"
     ]
    }
   ],
   "source": [
    "# Alternatively, drop rows with missing values\n",
    "df_cleaned = df.dropna()\n",
    "\n",
    "print(df_cleaned.head())"
   ]
  },
  {
   "cell_type": "code",
   "execution_count": 20,
   "id": "b5f8d70b-2d34-4d67-8f64-66761201f86a",
   "metadata": {
    "scrolled": true
   },
   "outputs": [
    {
     "data": {
      "image/png": "[encoded data removed]",
      "text/plain": [
       "<Figure size 640x480 with 1 Axes>"
      ]
     },
     "metadata": {},
     "output_type": "display_data"
    }
   ],
   "source": [
    "import matplotlib.pyplot as plt\n",
    "\n",
    "# Plot histogram of car prices\n",
    "plt.hist(df['Hours_Studied'], bins=20, edgecolor='black')\n",
    "plt.title('Hours of Study')\n",
    "plt.xlabel('Hours')\n",
    "plt.ylabel('Frequency')\n",
    "plt.show()"
   ]
  },
  {
   "cell_type": "code",
   "execution_count": 25,
   "id": "1e722289-0aa9-4f5d-80ec-c650e1ce5819",
   "metadata": {},
   "outputs": [
    {
     "name": "stdout",
     "output_type": "stream",
     "text": [
      "      Hours_Studied  Attendance  Previous_Scores\n",
      "743              20          71               87\n",
      "5551             22          71               98\n",
      "3442             21          91               53\n",
      "6571             12          91               81\n",
      "4204             21          63               95\n",
      "...             ...         ...              ...\n",
      "4709             20          78               85\n",
      "3664             27          90               92\n",
      "5231             23          72               61\n",
      "1773             21          76               50\n",
      "5782             23          87               96\n",
      "\n",
      "[1322 rows x 3 columns]\n"
     ]
    }
   ],
   "source": [
    "from sklearn.model_selection import train_test_split\n",
    "from sklearn.linear_model import LinearRegression\n",
    "\n",
    "# Define predictors and target variable\n",
    "X = df[['Hours_Studied', 'Attendance', 'Previous_Scores']]  # Example features\n",
    "y = df['Exam_Score']\n",
    "\n",
    "# Split data into training and test sets\n",
    "X_train, X_test, y_train, y_test = train_test_split(X, y, test_size=0.2, random_state=42)\n",
    "\n",
    "print(X_test)\n"
   ]
  },
  {
   "cell_type": "code",
   "execution_count": 26,
   "id": "513a0395-01b0-49f4-a10f-02ecbdff8e41",
   "metadata": {},
   "outputs": [
    {
     "name": "stdout",
     "output_type": "stream",
     "text": [
      "[66.02422558 67.12132203 68.68064739 ... 65.85179818 65.55123954\n",
      " 70.50004389]\n"
     ]
    }
   ],
   "source": [
    "# Train a linear regression model\n",
    "model = LinearRegression()\n",
    "model.fit(X_train, y_train)\n",
    "\n",
    "# Predict prices on the test set\n",
    "predictions = model.predict(X_test)\n",
    "print(predictions)"
   ]
  }
 ],
 "metadata": {
  "kernelspec": {
   "display_name": "Python 3 (ipykernel)",
   "language": "python",
   "name": "python3"
  },
  "language_info": {
   "codemirror_mode": {
    "name": "ipython",
    "version": 3
   },
   "file_extension": ".py",
   "mimetype": "text/x-python",
   "name": "python",
   "nbconvert_exporter": "python",
   "pygments_lexer": "ipython3",
   "version": "3.11.7"
  }
 },
 "nbformat": 4,
 "nbformat_minor": 5
}
