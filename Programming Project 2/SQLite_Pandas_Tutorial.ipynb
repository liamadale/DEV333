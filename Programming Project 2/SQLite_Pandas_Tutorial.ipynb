{
 "cells": [
  {
   "cell_type": "markdown",
   "id": "2bdf8c0c",
   "metadata": {},
   "source": [
    "# Advanced SQL Operations in SQLite with Pandas"
   ]
  },
  {
   "cell_type": "markdown",
   "id": "c6d05cc0",
   "metadata": {},
   "source": [
    "This tutorial demonstrates how to use advanced SQL operations in SQLite through Python, leveraging Pandas for data handling and display. We’ll cover `JOIN`, `GROUP BY`, `HAVING`, and `CASE` statements with separate examples for each operation."
   ]
  },
  {
   "cell_type": "markdown",
   "id": "ac53100b",
   "metadata": {},
   "source": [
    "## Setup"
   ]
  },
  {
   "cell_type": "markdown",
   "id": "82bda453",
   "metadata": {},
   "source": [
    "First, ensure you have pandas installed:"
   ]
  },
  {
   "cell_type": "code",
   "execution_count": null,
   "id": "d006d684",
   "metadata": {},
   "outputs": [],
   "source": [
    "!pip install pandas"
   ]
  },
  {
   "cell_type": "markdown",
   "id": "ae16b189",
   "metadata": {},
   "source": [
    "Then, import the necessary libraries and set up an SQLite database with sample data."
   ]
  },
  {
   "cell_type": "code",
   "execution_count": 2,
   "id": "ecb59298",
   "metadata": {},
   "outputs": [],
   "source": [
    "\n",
    "import sqlite3\n",
    "import pandas as pd\n",
    "\n",
    "# Connect to an SQLite database (or create it)\n",
    "conn = sqlite3.connect(\"example.db\")\n",
    "\n",
    "# Create sample tables: students and classes\n",
    "conn.execute('''\n",
    "    CREATE TABLE IF NOT EXISTS students (\n",
    "        student_id INTEGER PRIMARY KEY,\n",
    "        name TEXT,\n",
    "        class_id INTEGER,\n",
    "        age INTEGER\n",
    "    )\n",
    "''')\n",
    "\n",
    "conn.execute('''\n",
    "    CREATE TABLE IF NOT EXISTS classes (\n",
    "        class_id INTEGER PRIMARY KEY,\n",
    "        class_name TEXT\n",
    "    )\n",
    "''')\n",
    "\n",
    "# Insert data into the tables\n",
    "conn.executemany(\"INSERT OR IGNORE INTO classes (class_id, class_name) VALUES (?, ?)\", \n",
    "                 [(101, 'Math'), (102, 'Science')])\n",
    "\n",
    "conn.executemany(\"INSERT OR IGNORE INTO students (student_id, name, class_id, age) VALUES (?, ?, ?, ?)\", \n",
    "                 [(1, 'Alice', 101, 17), (2, 'Bob', 102, 20), (3, 'Charlie', 101, 16)])\n",
    "\n",
    "# Commit changes\n",
    "conn.commit()\n"
   ]
  },
  {
   "cell_type": "markdown",
   "id": "7df2f76a",
   "metadata": {},
   "source": [
    "## 1. Using JOIN to Combine Data from Multiple Tables"
   ]
  },
  {
   "cell_type": "markdown",
   "id": "dbb836fa",
   "metadata": {},
   "source": [
    "The `JOIN` operation allows us to combine data from the `students` and `classes` tables. Here’s an example using `JOIN` to display each student’s name along with their class name."
   ]
  },
  {
   "cell_type": "code",
   "execution_count": 3,
   "id": "15ea371f",
   "metadata": {},
   "outputs": [
    {
     "name": "stdout",
     "output_type": "stream",
     "text": [
      "Students and their classes:\n",
      "      name class_name\n",
      "0    Alice       Math\n",
      "1      Bob    Science\n",
      "2  Charlie       Math\n"
     ]
    }
   ],
   "source": [
    "\n",
    "# SQL query with JOIN\n",
    "query = '''\n",
    "SELECT students.name, classes.class_name\n",
    "FROM students\n",
    "JOIN classes ON students.class_id = classes.class_id\n",
    "'''\n",
    "\n",
    "# Use pandas to execute the query and display the results\n",
    "students_classes = pd.read_sql(query, conn)\n",
    "print(\"Students and their classes:\")\n",
    "print(students_classes)\n"
   ]
  },
  {
   "cell_type": "markdown",
   "id": "d3cd0992",
   "metadata": {},
   "source": [
    "## 2. Using GROUP BY for Aggregation"
   ]
  },
  {
   "cell_type": "markdown",
   "id": "b41a94a8",
   "metadata": {},
   "source": [
    "The `GROUP BY` statement allows us to aggregate data. In this example, we’ll count the number of students in each class."
   ]
  },
  {
   "cell_type": "code",
   "execution_count": 4,
   "id": "58871caa",
   "metadata": {},
   "outputs": [
    {
     "name": "stdout",
     "output_type": "stream",
     "text": [
      "\n",
      "Number of students in each class:\n",
      "  class_name  student_count\n",
      "0       Math              2\n",
      "1    Science              1\n"
     ]
    }
   ],
   "source": [
    "\n",
    "# SQL query with GROUP BY and COUNT\n",
    "query = '''\n",
    "SELECT classes.class_name, COUNT(students.student_id) AS student_count\n",
    "FROM students\n",
    "JOIN classes ON students.class_id = classes.class_id\n",
    "GROUP BY classes.class_name\n",
    "'''\n",
    "\n",
    "# Use pandas to execute the query and display the results\n",
    "class_counts = pd.read_sql(query, conn)\n",
    "print(\"\\nNumber of students in each class:\")\n",
    "print(class_counts)\n"
   ]
  },
  {
   "cell_type": "markdown",
   "id": "57638e84",
   "metadata": {},
   "source": [
    "## 3. Using HAVING for Conditional Aggregation"
   ]
  },
  {
   "cell_type": "markdown",
   "id": "35bcd620",
   "metadata": {},
   "source": [
    "The `HAVING` clause is used to filter groups created by `GROUP BY`. Here, we’ll filter classes to show only those with more than one student."
   ]
  },
  {
   "cell_type": "code",
   "execution_count": 5,
   "id": "91aca265",
   "metadata": {},
   "outputs": [
    {
     "name": "stdout",
     "output_type": "stream",
     "text": [
      "\n",
      "Classes with more than one student:\n",
      "  class_name  student_count\n",
      "0       Math              2\n"
     ]
    }
   ],
   "source": [
    "\n",
    "# SQL query with GROUP BY, HAVING, and COUNT\n",
    "query = '''\n",
    "SELECT classes.class_name, COUNT(students.student_id) AS student_count\n",
    "FROM students\n",
    "JOIN classes ON students.class_id = classes.class_id\n",
    "GROUP BY classes.class_name\n",
    "HAVING student_count > 1\n",
    "'''\n",
    "\n",
    "# Use pandas to execute the query and display the results\n",
    "class_counts_filtered = pd.read_sql(query, conn)\n",
    "print(\"\\nClasses with more than one student:\")\n",
    "print(class_counts_filtered)\n"
   ]
  },
  {
   "cell_type": "markdown",
   "id": "4c57719b",
   "metadata": {},
   "source": [
    "## 4. Using CASE for Conditional Logic"
   ]
  },
  {
   "cell_type": "markdown",
   "id": "af9ecb23",
   "metadata": {},
   "source": [
    "The `CASE` statement is similar to an `IF` statement in programming, allowing conditional logic in SQL queries. In this example, we’ll categorize students as 'Minor' if they’re under 18, and 'Adult' otherwise."
   ]
  },
  {
   "cell_type": "code",
   "execution_count": 6,
   "id": "9b46ba20",
   "metadata": {},
   "outputs": [
    {
     "name": "stdout",
     "output_type": "stream",
     "text": [
      "\n",
      "Students categorized by age:\n",
      "      name  age age_category\n",
      "0    Alice   17        Minor\n",
      "1      Bob   20        Adult\n",
      "2  Charlie   16        Minor\n"
     ]
    }
   ],
   "source": [
    "\n",
    "# SQL query with CASE for conditional categorization\n",
    "query = '''\n",
    "SELECT name, age,\n",
    "    CASE \n",
    "        WHEN age < 18 THEN 'Minor'\n",
    "        ELSE 'Adult'\n",
    "    END AS age_category\n",
    "FROM students\n",
    "'''\n",
    "\n",
    "# Use pandas to execute the query and display the results\n",
    "age_categories = pd.read_sql(query, conn)\n",
    "print(\"\\nStudents categorized by age:\")\n",
    "print(age_categories)\n"
   ]
  },
  {
   "cell_type": "markdown",
   "id": "8b2f923a",
   "metadata": {},
   "source": [
    "## Closing the Database Connection"
   ]
  },
  {
   "cell_type": "markdown",
   "id": "5c41d03f",
   "metadata": {},
   "source": [
    "After running these queries, always close the connection to the database."
   ]
  },
  {
   "cell_type": "code",
   "execution_count": 7,
   "id": "6ac06770",
   "metadata": {},
   "outputs": [],
   "source": [
    "conn.close()"
   ]
  },
  {
   "cell_type": "markdown",
   "id": "99b03893",
   "metadata": {},
   "source": [
    "## Summary"
   ]
  },
  {
   "cell_type": "markdown",
   "id": "85829b15",
   "metadata": {},
   "source": [
    "In this tutorial, we covered the following SQL operations using SQLite and Pandas:\n",
    "\n",
    "- `JOIN`: Combines data from multiple tables based on related columns.\n",
    "- `GROUP BY`: Aggregates data by specified columns.\n",
    "- `HAVING`: Filters aggregated data.\n",
    "- `CASE`: Adds conditional logic within SQL queries.\n",
    "\n",
    "Using Pandas with SQLite allows you to run SQL commands directly in Python and work with the results as DataFrames, making data manipulation and visualization easier."
   ]
  }
 ],
 "metadata": {
  "kernelspec": {
   "display_name": "Python 3 (ipykernel)",
   "language": "python",
   "name": "python3"
  },
  "language_info": {
   "codemirror_mode": {
    "name": "ipython",
    "version": 3
   },
   "file_extension": ".py",
   "mimetype": "text/x-python",
   "name": "python",
   "nbconvert_exporter": "python",
   "pygments_lexer": "ipython3",
   "version": "3.11.7"
  }
 },
 "nbformat": 4,
 "nbformat_minor": 5
}
